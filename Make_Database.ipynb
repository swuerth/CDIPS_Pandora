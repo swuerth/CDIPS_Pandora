{
 "cells": [
  {
   "cell_type": "markdown",
   "metadata": {},
   "source": [
    "## Make Database\n",
    "### Includes code to:\n",
    "### (1) Save any # of csv files of hot100 list data\n",
    "### (2) Read one hot100 list into a pandas dataframe\n",
    "### (3) Use the Track Name and Artist Name from that hot100 list to get lyrics from MXM \n",
    ">Includes fuzzy matching of artist name strings\n",
    "\n"
   ]
  },
  {
   "cell_type": "code",
   "execution_count": 33,
   "metadata": {
    "collapsed": false
   },
   "outputs": [
    {
     "name": "stdout",
     "output_type": "stream",
     "text": [
      "testing!\n"
     ]
    }
   ],
   "source": [
    "import sys\n",
    "default_stdout = sys.stdout\n",
    "default_stderr = sys.stderr\n",
    "reload(sys)\n",
    "sys.stdout = default_stdout\n",
    "sys.stderr = default_stderr\n",
    "print 'testing!'"
   ]
  },
  {
   "cell_type": "code",
   "execution_count": 3,
   "metadata": {
    "collapsed": true
   },
   "outputs": [],
   "source": [
    "# edit this cell with your API info for billboard and spotify\n",
    "\n",
    "mxm_key = \"f8a009fe01e53de1e8a1388e60812ef5\""
   ]
  },
  {
   "cell_type": "code",
   "execution_count": 26,
   "metadata": {
    "collapsed": true
   },
   "outputs": [],
   "source": [
    "import billboard\n",
    "from billboard import ChartData\n",
    "import pdb \n",
    "import numpy as np \n",
    "import pandas as pd\n",
    "\n",
    "# for lyrics stuff (mxm)\n",
    "from musixmatch.track import TracksCollection\n",
    "from musixmatch.lyrics import Lyrics\n",
    "\n",
    "# for fuzzy matching artist names (when matching hot100 song to lyrics in mxm)\n",
    "from fuzzywuzzy import fuzz\n",
    "from fuzzywuzzy import process\n",
    "\n",
    "# for joining list of strings\n",
    "import string"
   ]
  },
  {
   "cell_type": "code",
   "execution_count": 4,
   "metadata": {
    "collapsed": true
   },
   "outputs": [],
   "source": [
    "import os"
   ]
  },
  {
   "cell_type": "code",
   "execution_count": 5,
   "metadata": {
    "collapsed": false
   },
   "outputs": [
    {
     "name": "stdout",
     "output_type": "stream",
     "text": [
      "./hot100/hot100.2016-07-09.csv  exists\n"
     ]
    }
   ],
   "source": [
    "date_in = '2016-07-09' #initialize\n",
    "testname = './hot100/hot100.' + date_in + '.csv'\n",
    "if os.path.exists(testname):\n",
    "    print testname, ' exists'"
   ]
  },
  {
   "cell_type": "code",
   "execution_count": 35,
   "metadata": {
    "collapsed": false
   },
   "outputs": [
    {
     "name": "stdout",
     "output_type": "stream",
     "text": [
      "processing  1958-08-23\n",
      "manually fixing unicode error\n",
      "Changing  Nel Blu Dipinto Di Blu (VolarÃÂ©)  to  Nel Blu Dipinto Di Blu\n",
      "./hot100/hot100.1958-08-23.csv  doesnt exist, so we will save this date...\n",
      "saving to :  ./hot100/hot100.1958-08-23.csv\n",
      "processing  1958-08-16\n",
      "processing  1958-08-09\n",
      "done getting all the data\n"
     ]
    }
   ],
   "source": [
    "## This cell saves individual csv files of the billboard hot100 list data\n",
    "## It starts with the most current list and moves backward in time until num_lists are retrieved \n",
    "\n",
    "num_lists = 4000 #how many top100 lists do you want? (i.e. how many csv files do you want?)\n",
    "                    # we'll break out of the loop when we have this many lists or when date_in = '08-09-1958'\n",
    "chartname = 'hot-100'\n",
    "#date_in = '2016-07-09' #initialize\n",
    "date_in = '1958-08-23'\n",
    "end_date = '1958-08-09'\n",
    "list_count = 1\n",
    "while list_count <= num_lists :\n",
    "    print 'processing ', date_in\n",
    "    fname = './hot100/hot100.' + date_in + '.csv' #name to save data to\n",
    "    data = ChartData(chartname, date = date_in)\n",
    "    previous = data.previousDate\n",
    "    if not os.path.exists(fname):\n",
    "            #special case for 1958-08-23\n",
    "        if (date_in == '1958-08-23'):\n",
    "            print 'manually fixing unicode error'\n",
    "            for x in data:\n",
    "                if x.title.split(' ')[0:3] == ['Nel','Blu','Dipinto']:\n",
    "                    words_in_title = x.title.split(' ')\n",
    "                    words_in_title.pop()\n",
    "                    print 'Changing ', x.title, ' to ', string.join(words_in_title)\n",
    "                    x.title = string.join(words_in_title)\n",
    "        print fname, ' doesnt exist, so we will save this date...'\n",
    "        print 'saving to : ', fname\n",
    "        f = open(fname, 'wb')\n",
    "        [f.write(x.spotifyID + '\\t' + x.title + '\\t'  + x.artist + '\\t' + np.str(x.peakPos) + '\\t' + \n",
    "            np.str(x.lastPos) + '\\t' + np.str(x.weeks) + '\\t' + np.str(x.rank) + '\\t'  + np.str(x.change)\n",
    "            + '\\t' + x.spotifyLink + '\\n')\n",
    "            for x in data]\n",
    "        f.close()\n",
    "    list_count += 1\n",
    "    if date_in == end_date:\n",
    "        print 'done getting all the data'\n",
    "        break\n",
    "    date_in = previous"
   ]
  },
  {
   "cell_type": "code",
   "execution_count": 30,
   "metadata": {
    "collapsed": false
   },
   "outputs": [
    {
     "name": "stdout",
     "output_type": "stream",
     "text": [
      "Changing  Nel Blu Dipinto Di Blu (VolarÃÂ©)  to  Nel Blu Dipinto Di Blu\n"
     ]
    }
   ],
   "source": [
    "\n",
    "\n",
    "        "
   ]
  },
  {
   "cell_type": "code",
   "execution_count": 22,
   "metadata": {
    "collapsed": false
   },
   "outputs": [
    {
     "data": {
      "text/plain": [
       "'Nel Blu Dipinto'"
      ]
     },
     "execution_count": 22,
     "metadata": {},
     "output_type": "execute_result"
    }
   ],
   "source": [
    "import string\n",
    "liststr = ['Nel','Blu','Dipinto']\n",
    "string.join(liststr)"
   ]
  },
  {
   "cell_type": "code",
   "execution_count": null,
   "metadata": {
    "collapsed": true
   },
   "outputs": [],
   "source": [
    "# Read in csv's into one large data frame:\n",
    "f1 = 'hot100.2016-07-09.csv'\n",
    "f2 = 'hot100.2016-07-09.csv'\n"
   ]
  },
  {
   "cell_type": "code",
   "execution_count": 45,
   "metadata": {
    "collapsed": false
   },
   "outputs": [
    {
     "name": "stdout",
     "output_type": "stream",
     "text": [
      "getting data for :  2016-07-09\n",
      "Data Frame has  100  songs in it\n"
     ]
    }
   ],
   "source": [
    "# put one top100 list into a dataframe:\n",
    "chartname = 'hot-100'\n",
    "date_in = '2016-07-09' #initialize\n",
    "print 'getting data for : ', date_in\n",
    "data = ChartData(chartname, date = date_in)\n",
    "spotid = []\n",
    "titles = []\n",
    "artists = []\n",
    "peakpos = []\n",
    "lastpos = []\n",
    "weeks = []\n",
    "rank = []\n",
    "change = []\n",
    "link = []\n",
    "for x in data:\n",
    "    spotid.append(x.spotifyID)\n",
    "    titles.append(x.title)\n",
    "    artists.append(x.artist)\n",
    "    peakpos.append(x.peakPos)\n",
    "    lastpos.append(x.lastPos)\n",
    "    weeks.append(x.weeks)\n",
    "    rank.append(x.rank)\n",
    "    change.append(x.change)\n",
    "    link.append(x.spotifyLink)\n",
    "\n",
    "d = {'SpotifyID':spotid, 'Title':titles,'Artist':artists,'PeakPos':peakpos \\\n",
    "      ,'LastPos':lastpos,'Weeks':weeks,'Rank':rank,'Change':change,'SpotifyLink':link}\n",
    "df = pd.DataFrame(data=d, index=spotid)\n",
    "print 'Data Frame has ', len(df), ' songs in it'"
   ]
  },
  {
   "cell_type": "markdown",
   "metadata": {},
   "source": [
    "#### Cool, so we have the billboard data for one particular date in a DataFrame. \n",
    "#### Let's look at the top 5 lines:"
   ]
  },
  {
   "cell_type": "code",
   "execution_count": 46,
   "metadata": {
    "collapsed": false,
    "scrolled": true
   },
   "outputs": [
    {
     "data": {
      "text/html": [
       "<div>\n",
       "<table border=\"1\" class=\"dataframe\">\n",
       "  <thead>\n",
       "    <tr style=\"text-align: right;\">\n",
       "      <th></th>\n",
       "      <th>Artist</th>\n",
       "      <th>Change</th>\n",
       "      <th>LastPos</th>\n",
       "      <th>PeakPos</th>\n",
       "      <th>Rank</th>\n",
       "      <th>SpotifyID</th>\n",
       "      <th>SpotifyLink</th>\n",
       "      <th>Title</th>\n",
       "      <th>Weeks</th>\n",
       "    </tr>\n",
       "  </thead>\n",
       "  <tbody>\n",
       "    <tr>\n",
       "      <th>11hqMWwX7sF3sOGdtijofF</th>\n",
       "      <td>Drake Featuring WizKid &amp; Kyla</td>\n",
       "      <td>0</td>\n",
       "      <td>1</td>\n",
       "      <td>1</td>\n",
       "      <td>1</td>\n",
       "      <td>11hqMWwX7sF3sOGdtijofF</td>\n",
       "      <td>https://embed.spotify.com/?uri=spotify:track:1...</td>\n",
       "      <td>One Dance</td>\n",
       "      <td>12</td>\n",
       "    </tr>\n",
       "    <tr>\n",
       "      <th>6JV2JOEocMgcZxYSZelKcc</th>\n",
       "      <td>Justin Timberlake</td>\n",
       "      <td>0</td>\n",
       "      <td>2</td>\n",
       "      <td>1</td>\n",
       "      <td>2</td>\n",
       "      <td>6JV2JOEocMgcZxYSZelKcc</td>\n",
       "      <td>https://embed.spotify.com/?uri=spotify:track:6...</td>\n",
       "      <td>Can't Stop The Feeling!</td>\n",
       "      <td>7</td>\n",
       "    </tr>\n",
       "    <tr>\n",
       "      <th>6r2jK1A6oFRPREZfxjc5d1</th>\n",
       "      <td>Desiigner</td>\n",
       "      <td>0</td>\n",
       "      <td>3</td>\n",
       "      <td>1</td>\n",
       "      <td>3</td>\n",
       "      <td>6r2jK1A6oFRPREZfxjc5d1</td>\n",
       "      <td>https://embed.spotify.com/?uri=spotify:track:6...</td>\n",
       "      <td>Panda</td>\n",
       "      <td>18</td>\n",
       "    </tr>\n",
       "    <tr>\n",
       "      <th>1i1fxkWeaMmKEB4T7zqbzK</th>\n",
       "      <td>The Chainsmokers Featuring Daya</td>\n",
       "      <td>0</td>\n",
       "      <td>4</td>\n",
       "      <td>3</td>\n",
       "      <td>4</td>\n",
       "      <td>1i1fxkWeaMmKEB4T7zqbzK</td>\n",
       "      <td>https://embed.spotify.com/?uri=spotify:track:1...</td>\n",
       "      <td>Don't Let Me Down</td>\n",
       "      <td>19</td>\n",
       "    </tr>\n",
       "    <tr>\n",
       "      <th>0azC730Exh71aQlOt9Zj3y</th>\n",
       "      <td>Calvin Harris Featuring Rihanna</td>\n",
       "      <td>+1</td>\n",
       "      <td>6</td>\n",
       "      <td>5</td>\n",
       "      <td>5</td>\n",
       "      <td>0azC730Exh71aQlOt9Zj3y</td>\n",
       "      <td>https://embed.spotify.com/?uri=spotify:track:0...</td>\n",
       "      <td>This Is What You Came For</td>\n",
       "      <td>8</td>\n",
       "    </tr>\n",
       "  </tbody>\n",
       "</table>\n",
       "</div>"
      ],
      "text/plain": [
       "                                                 Artist Change  LastPos  \\\n",
       "11hqMWwX7sF3sOGdtijofF    Drake Featuring WizKid & Kyla      0        1   \n",
       "6JV2JOEocMgcZxYSZelKcc                Justin Timberlake      0        2   \n",
       "6r2jK1A6oFRPREZfxjc5d1                        Desiigner      0        3   \n",
       "1i1fxkWeaMmKEB4T7zqbzK  The Chainsmokers Featuring Daya      0        4   \n",
       "0azC730Exh71aQlOt9Zj3y  Calvin Harris Featuring Rihanna     +1        6   \n",
       "\n",
       "                        PeakPos  Rank               SpotifyID  \\\n",
       "11hqMWwX7sF3sOGdtijofF        1     1  11hqMWwX7sF3sOGdtijofF   \n",
       "6JV2JOEocMgcZxYSZelKcc        1     2  6JV2JOEocMgcZxYSZelKcc   \n",
       "6r2jK1A6oFRPREZfxjc5d1        1     3  6r2jK1A6oFRPREZfxjc5d1   \n",
       "1i1fxkWeaMmKEB4T7zqbzK        3     4  1i1fxkWeaMmKEB4T7zqbzK   \n",
       "0azC730Exh71aQlOt9Zj3y        5     5  0azC730Exh71aQlOt9Zj3y   \n",
       "\n",
       "                                                              SpotifyLink  \\\n",
       "11hqMWwX7sF3sOGdtijofF  https://embed.spotify.com/?uri=spotify:track:1...   \n",
       "6JV2JOEocMgcZxYSZelKcc  https://embed.spotify.com/?uri=spotify:track:6...   \n",
       "6r2jK1A6oFRPREZfxjc5d1  https://embed.spotify.com/?uri=spotify:track:6...   \n",
       "1i1fxkWeaMmKEB4T7zqbzK  https://embed.spotify.com/?uri=spotify:track:1...   \n",
       "0azC730Exh71aQlOt9Zj3y  https://embed.spotify.com/?uri=spotify:track:0...   \n",
       "\n",
       "                                            Title  Weeks  \n",
       "11hqMWwX7sF3sOGdtijofF                  One Dance     12  \n",
       "6JV2JOEocMgcZxYSZelKcc    Can't Stop The Feeling!      7  \n",
       "6r2jK1A6oFRPREZfxjc5d1                      Panda     18  \n",
       "1i1fxkWeaMmKEB4T7zqbzK          Don't Let Me Down     19  \n",
       "0azC730Exh71aQlOt9Zj3y  This Is What You Came For      8  "
      ]
     },
     "execution_count": 46,
     "metadata": {},
     "output_type": "execute_result"
    }
   ],
   "source": [
    "df.head(5)"
   ]
  },
  {
   "cell_type": "code",
   "execution_count": 47,
   "metadata": {
    "collapsed": false
   },
   "outputs": [
    {
     "data": {
      "text/plain": [
       "u'11hqMWwX7sF3sOGdtijofF'"
      ]
     },
     "execution_count": 47,
     "metadata": {},
     "output_type": "execute_result"
    }
   ],
   "source": [
    "# search spotify for the ID's listed in the one data frame we have...\n",
    "spotid[0]"
   ]
  },
  {
   "cell_type": "markdown",
   "metadata": {},
   "source": [
    "#### We can query for just the first title in the data frame as follows"
   ]
  },
  {
   "cell_type": "code",
   "execution_count": 48,
   "metadata": {
    "collapsed": false
   },
   "outputs": [
    {
     "data": {
      "text/plain": [
       "u'One Dance'"
      ]
     },
     "execution_count": 48,
     "metadata": {},
     "output_type": "execute_result"
    }
   ],
   "source": [
    "df['Title'][0]"
   ]
  },
  {
   "cell_type": "markdown",
   "metadata": {},
   "source": [
    "### Let's just try to get lyrics for one song in the musicmatch database\n",
    "\n",
    "### Use the first title in our Billboard DataFrame\n",
    "#### How many different songs have this title? Who are the artists?"
   ]
  },
  {
   "cell_type": "code",
   "execution_count": 49,
   "metadata": {
    "collapsed": false
   },
   "outputs": [
    {
     "name": "stdout",
     "output_type": "stream",
     "text": [
      "trackname hot =  One Dance\n",
      "artist hot =  Drake Featuring WizKid & Kyla\n",
      "10  songs in mxm have this title\n",
      " artists :  [u'Conor Maynard', u'Audrey Hall', u'WattyJay', u'Alex Aiono', u'Drake feat. Wizkid and Kyla', u'Drake feat. Wizkid & Kyla', u'Paris Inc', u'Sara Farell', u'Boyce Avenue', u'vChenay']\n",
      "[u'0ENy870oF03JUjU41Zf9iP', u'0hlnqmmraol40xRgkeqDhU', u'2Mn7ee2bQN4ysUac4rMtsa', u'54nZR2nv5hmhHI2YM0LOCE', u'', u'', u'5L860D530vnVdHWCjIXSdW', u'235dYhgn9D1iLqwMmf29Zd', u'7vOfJJRgEM4aelrcFmiEQv', u'42w2ZBO8UHfwoYuJ26XVYq']\n"
     ]
    }
   ],
   "source": [
    "apikey = mxm_key\n",
    "\n",
    "trackname_hot = df['Title'][0]\n",
    "print 'trackname hot = ',trackname_hot\n",
    "artist_hot = df['Artist'][0]\n",
    "print 'artist hot = ', artist_hot\n",
    "collection = TracksCollection.fromSearch(q_track=trackname_hot, apikey = apikey)\n",
    "# print artists that have that title:\n",
    "artists = [t['artist_name'] for t in collection]\n",
    "print len(artists), ' songs in mxm have this title'\n",
    "print ' artists : ', artists\n",
    "# get the spotify ids too\n",
    "sids = [t['track_spotify_id'] for t in collection]\n",
    "print sids"
   ]
  },
  {
   "cell_type": "markdown",
   "metadata": {},
   "source": [
    "### So there are 10 matching songs. We can see that 2 of these should give us the right lyrics (Drake)\n",
    "\n",
    "### Note : These 2 matching songs don't have Spotify ID's, suggesting it may be best to match on Song name and Artist name rather than SID"
   ]
  },
  {
   "cell_type": "code",
   "execution_count": 50,
   "metadata": {
    "collapsed": false
   },
   "outputs": [
    {
     "name": "stdout",
     "output_type": "stream",
     "text": [
      "We matched hot 100 artist :  Drake Featuring WizKid & Kyla  with mxm artist :  Drake feat. Wizkid and Kyla\n"
     ]
    }
   ],
   "source": [
    "# get the track id's for these 10 songs\n",
    "track_id = [t['track_id'] for t in collection]\n",
    "\n",
    "# select the first song with first word = \"Drake\"\n",
    "i = 0\n",
    "for a in artists:\n",
    "    firstword = a.split(' ')[0]\n",
    "    if firstword == 'Drake':\n",
    "        track_id_to_select = track_id[i]\n",
    "        break\n",
    "    else:\n",
    "        i += 1\n",
    "        continue\n",
    "print 'We matched hot 100 artist : ', artist_hot, ' with mxm artist : ', artists[i]\n"
   ]
  },
  {
   "cell_type": "code",
   "execution_count": 51,
   "metadata": {
    "collapsed": false
   },
   "outputs": [
    {
     "name": "stdout",
     "output_type": "stream",
     "text": [
      "Baby I like your style\n",
      "\n",
      "Grips on your waist\n",
      "Front way, back way\n",
      "You know that I don't play\n",
      "Streets not safe\n",
      "But I never run away\n",
      "Even when I'm away\n",
      "Oti, oti, there's never much love when we go OT\n",
      "I pray to make it back in one piece\n",
      "I pray, I pray\n",
      "\n",
      "That's why I need a one dance\n",
      "Got a Hennessy in my hand\n",
      "One more time 'fore I go\n",
      "Higher powers taking a hold on me\n",
      "I need a one dance\n",
      "Got a Hennessy in my hand\n",
      "One more time 'fore I go\n",
      "Higher powers taking a hold on me\n",
      "\n",
      "Baby I like your style\n",
      "\n",
      "Strength and guidance\n",
      "All that I'm wishing for my friends\n",
      "...\n",
      "\n",
      "******* This Lyrics is NOT for Commercial use *******\n",
      "keys in lyrics object:  ['lyrics_copyright', 'lyrics_body', 'publisher_list', 'can_edit', 'writer_list', 'instrumental', 'verified', 'html_tracking_url', 'lyrics_language_description', 'locked', 'restricted', 'explicit', 'updated_time', 'lyrics_id', 'script_tracking_url', 'action_requested', 'pixel_tracking_url', 'lyrics_language']\n"
     ]
    }
   ],
   "source": [
    "# Now let's display the lyrics for this song:\n",
    "\n",
    "lyrics = Lyrics(track_id = track_id_to_select, apikey = apikey)\n",
    "#print the lyrics body\n",
    "print lyrics['lyrics_body']\n",
    "#save the headers of lyrics object for later when we get lots of data:\n",
    "lyric_df_cols = [str(x) for x in lyrics.keys()]\n",
    "print 'keys in lyrics object: ', lyric_df_cols"
   ]
  },
  {
   "cell_type": "markdown",
   "metadata": {},
   "source": [
    "#### Matching only the first word of each artist name won't always work, and neither will matching the entire string\n",
    "> For example see the code below where 2 strings a human would recognize as meaning the same thing aren't considered ideintical by the computer for obvious reasons:"
   ]
  },
  {
   "cell_type": "code",
   "execution_count": 52,
   "metadata": {
    "collapsed": false
   },
   "outputs": [
    {
     "name": "stdout",
     "output_type": "stream",
     "text": [
      "Does  Drake feat. Wizkid and Kyla  ==  Drake Featuring WizKid & Kyla  ? \n",
      "[False]\n"
     ]
    }
   ],
   "source": [
    "# Often the artist names won't match character for character, for example:\n",
    "is_true = [artists[7] == artist_hot]\n",
    "print 'Does ', artists[i], ' == ', artist_hot, ' ? '\n",
    "print is_true\n"
   ]
  },
  {
   "cell_type": "markdown",
   "metadata": {},
   "source": [
    "### One quick way to find fuzzy matches for the artist names is to use the fuzzywuzzy package. Below I've written a function that takes a list of artist names and the name we're trying to match as input, and outputs the index of the best match in the list. "
   ]
  },
  {
   "cell_type": "code",
   "execution_count": 53,
   "metadata": {
    "collapsed": false
   },
   "outputs": [
    {
     "name": "stdout",
     "output_type": "stream",
     "text": [
      "similarity between  Drake Featuring WizKid & Kyla  and  Conor Maynard  :  24\n",
      "similarity between  Drake Featuring WizKid & Kyla  and  Audrey Hall  :  25\n",
      "similarity between  Drake Featuring WizKid & Kyla  and  WattyJay  :  22\n",
      "similarity between  Drake Featuring WizKid & Kyla  and  Alex Aiono  :  21\n",
      "similarity between  Drake Featuring WizKid & Kyla  and  Drake feat. Wizkid and Kyla  :  75\n",
      "similarity between  Drake Featuring WizKid & Kyla  and  Drake feat. Wizkid & Kyla  :  81\n",
      "similarity between  Drake Featuring WizKid & Kyla  and  Paris Inc  :  21\n",
      "similarity between  Drake Featuring WizKid & Kyla  and  Sara Farell  :  35\n",
      "similarity between  Drake Featuring WizKid & Kyla  and  Boyce Avenue  :  20\n",
      "similarity between  Drake Featuring WizKid & Kyla  and  vChenay  :  17\n",
      "Best Match =  Drake feat. Wizkid & Kyla\n",
      "Score =  81\n",
      "Drake feat. Wizkid & Kyla\n"
     ]
    }
   ],
   "source": [
    "# make function that takes a list of artists, and \n",
    "def find_artist_match(name_to_match, artist_list):\n",
    "    index = 0 #index of the artist we're scoring\n",
    "    r = 0 #here i'll store the highest similarity score\n",
    "    for a in artist_list:\n",
    "        rnew = fuzz.ratio(name_to_match, a)\n",
    "        print 'similarity between ', name_to_match, ' and ', a, ' : ', rnew\n",
    "        if rnew > r: \n",
    "            best_match = a\n",
    "            best_ind = index\n",
    "            r = rnew\n",
    "        index = index+1\n",
    "\n",
    "    print 'Best Match = ', best_match\n",
    "    assert(best_match==artist_list[best_ind])\n",
    "    print 'Score = ',r\n",
    "    return best_ind\n",
    "\n",
    "#test\n",
    "ind = find_artist_match(artist_hot, artists)\n",
    "print artists[ind]"
   ]
  },
  {
   "cell_type": "code",
   "execution_count": 55,
   "metadata": {
    "collapsed": false
   },
   "outputs": [
    {
     "name": "stdout",
     "output_type": "stream",
     "text": [
      "trackname hot =  One Dance\n",
      "artist hot =  Drake Featuring WizKid & Kyla\n",
      "There are  10  artists with this song title\n",
      "[u'Conor Maynard', u'Audrey Hall', u'WattyJay', u'Alex Aiono', u'Drake feat. Wizkid and Kyla', u'Drake feat. Wizkid & Kyla', u'Paris Inc', u'Sara Farell', u'Boyce Avenue', u'vChenay']\n",
      "similarity between  Drake Featuring WizKid & Kyla  and  Conor Maynard  :  24\n",
      "similarity between  Drake Featuring WizKid & Kyla  and  Audrey Hall  :  25\n",
      "similarity between  Drake Featuring WizKid & Kyla  and  WattyJay  :  22\n",
      "similarity between  Drake Featuring WizKid & Kyla  and  Alex Aiono  :  21\n",
      "similarity between  Drake Featuring WizKid & Kyla  and  Drake feat. Wizkid and Kyla  :  75\n",
      "similarity between  Drake Featuring WizKid & Kyla  and  Drake feat. Wizkid & Kyla  :  81\n",
      "similarity between  Drake Featuring WizKid & Kyla  and  Paris Inc  :  21\n",
      "similarity between  Drake Featuring WizKid & Kyla  and  Sara Farell  :  35\n",
      "similarity between  Drake Featuring WizKid & Kyla  and  Boyce Avenue  :  20\n",
      "similarity between  Drake Featuring WizKid & Kyla  and  vChenay  :  17\n",
      "Best Match =  Drake feat. Wizkid & Kyla\n",
      "Score =  81\n",
      "Drake feat. Wizkid & Kyla\n",
      "108888372\n",
      "trackname hot =  Can't Stop The Feeling!\n",
      "artist hot =  Justin Timberlake\n",
      "There are  10  artists with this song title\n",
      "[u'Leroy', u'Tanner Patrick', u'Nicole Cross', u'Boyce Avenue', u'Justin Timberlake', u'Home Free', u'Joseph Vincent', u'Fame on Fire', u'Sofia Karlberg', u'Justin Stopfeel']\n",
      "similarity between  Justin Timberlake  and  Leroy  :  18\n",
      "similarity between  Justin Timberlake  and  Tanner Patrick  :  32\n",
      "similarity between  Justin Timberlake  and  Nicole Cross  :  21\n",
      "similarity between  Justin Timberlake  and  Boyce Avenue  :  21\n",
      "similarity between  Justin Timberlake  and  Justin Timberlake  :  100\n",
      "similarity between  Justin Timberlake  and  Home Free  :  31\n",
      "similarity between  Justin Timberlake  and  Joseph Vincent  :  32\n",
      "similarity between  Justin Timberlake  and  Fame on Fire  :  34\n",
      "similarity between  Justin Timberlake  and  Sofia Karlberg  :  32\n",
      "similarity between  Justin Timberlake  and  Justin Stopfeel  :  56\n",
      "Best Match =  Justin Timberlake\n",
      "Score =  100\n",
      "Justin Timberlake\n",
      "110789083\n",
      "trackname hot =  Panda\n",
      "artist hot =  Desiigner\n",
      "There are  10  artists with this song title\n",
      "[u'Desiigner', u'The Rasmus', u'Itro', u'Okay', u'G\\xfclben Ergen', u'Jefferson Airplane', u'Almighty feat. Farruko', u'Jersey Demic', u'A3', u'Astro']\n",
      "similarity between  Desiigner  and  Desiigner  :  100\n",
      "similarity between  Desiigner  and  The Rasmus  :  21\n",
      "similarity between  Desiigner  and  Itro  :  15\n",
      "similarity between  Desiigner  and  Okay  :  0\n",
      "similarity between  Desiigner  and  Gülben Ergen  :  29\n",
      "similarity between  Desiigner  and  Jefferson Airplane  :  37\n",
      "similarity between  Desiigner  and  Almighty feat. Farruko  :  26\n",
      "similarity between  Desiigner  and  Jersey Demic  :  29\n",
      "similarity between  Desiigner  and  A3  :  0\n",
      "similarity between  Desiigner  and  Astro  :  29\n",
      "Best Match =  Desiigner\n",
      "Score =  100\n",
      "Desiigner\n",
      "113492519\n"
     ]
    }
   ],
   "source": [
    "num_songs = 3 #how many songs to get from the hot100 song list\n",
    "\n",
    "df_mxm_info = pd.DataFrame() #dataframe for some song info (from collections object)\n",
    "#df_mxm_lyrics = pd.DataFrame() #dataframe for lyrics and related attributes\n",
    "lyrics_list = [] #append lyric info to a list for each song, later we'll put it in a dataframe!\n",
    "\n",
    "\n",
    "#header for info to be stored in df_mxm_info\n",
    "cols = ['lyrics_id', 'has_lyrics', 'artist_name', 'track_spotify_id','track_id','track_name']\n",
    "\n",
    "#header for info in df_mxm_lyrics\n",
    "lyrics_df_cols = ['lyrics_copyright', 'lyrics_body','publisher_list', 'can_edit', 'writer_list', \\\n",
    "                  'instrumental','verified','html_tracking_url','lyrics_language_description', \\\n",
    "                  'locked','restricted','explicit','updated_time','lyrics_id','script_tracking_url', \\\n",
    "                  'action_requested','pixel_tracking_url','lyrics_language']\n",
    "\n",
    "for i in xrange(num_songs):\n",
    "    trackname_hot = df['Title'][i]\n",
    "    print 'trackname hot = ',trackname_hot\n",
    "    artist_hot = df['Artist'][i]\n",
    "    print 'artist hot = ', artist_hot\n",
    "\n",
    "    collection = TracksCollection.fromSearch(q_track=trackname_hot, apikey = apikey)\n",
    "\n",
    "    # print artists that have that title:\n",
    "    artists = [t['artist_name'] for t in collection]\n",
    "    print 'There are ', len(artists), ' artists with this song title'\n",
    "    print artists\n",
    "    track_id = [t['track_id'] for t in collection]\n",
    "\n",
    "    # fuzzy match the artist from hot100 to all artists matching track name\n",
    "    ind = find_artist_match(artist_hot, artists)\n",
    "    print artists[ind]\n",
    "\n",
    "    # select the best track id (best match to artist name)\n",
    "    track_id_selected = track_id[ind]\n",
    "    print track_id_selected\n",
    "    \n",
    "    # store only one row in df_mxm_info\n",
    "    # this row represents the best match to the billboard title+artist\n",
    "    subset = pd.DataFrame.from_dict(collection)[cols] #could set index here to track_id or lyrics_id...\n",
    "    is_true = subset['track_id'] == track_id_selected\n",
    "    df_mxm_info = df_mxm_info.append(subset[is_true])\n",
    "    \n",
    "    # now add to the lyrics data frame as well:\n",
    "    lyrics = Lyrics(track_id = track_id_selected, apikey = apikey)\n",
    "    \n",
    "    #df_mxm_lyrics = df_mxm_lyrics.append(lyrics.values())\n",
    "    lyrics_list.append(lyrics.values())"
   ]
  },
  {
   "cell_type": "code",
   "execution_count": 56,
   "metadata": {
    "collapsed": false
   },
   "outputs": [
    {
     "data": {
      "text/html": [
       "<div>\n",
       "<table border=\"1\" class=\"dataframe\">\n",
       "  <thead>\n",
       "    <tr style=\"text-align: right;\">\n",
       "      <th></th>\n",
       "      <th>lyrics_id</th>\n",
       "      <th>has_lyrics</th>\n",
       "      <th>artist_name</th>\n",
       "      <th>track_spotify_id</th>\n",
       "      <th>track_id</th>\n",
       "      <th>track_name</th>\n",
       "    </tr>\n",
       "  </thead>\n",
       "  <tbody>\n",
       "    <tr>\n",
       "      <th>5</th>\n",
       "      <td>15092857</td>\n",
       "      <td>1</td>\n",
       "      <td>Drake feat. Wizkid &amp; Kyla</td>\n",
       "      <td></td>\n",
       "      <td>108888372</td>\n",
       "      <td>One Dance</td>\n",
       "    </tr>\n",
       "    <tr>\n",
       "      <th>4</th>\n",
       "      <td>15311374</td>\n",
       "      <td>1</td>\n",
       "      <td>Justin Timberlake</td>\n",
       "      <td></td>\n",
       "      <td>110789083</td>\n",
       "      <td>Can't Stop the Feeling</td>\n",
       "    </tr>\n",
       "    <tr>\n",
       "      <th>0</th>\n",
       "      <td>15300601</td>\n",
       "      <td>1</td>\n",
       "      <td>Desiigner</td>\n",
       "      <td>5OOkp4U9P9oL23maHFHL1h</td>\n",
       "      <td>113492519</td>\n",
       "      <td>Panda</td>\n",
       "    </tr>\n",
       "  </tbody>\n",
       "</table>\n",
       "</div>"
      ],
      "text/plain": [
       "   lyrics_id  has_lyrics                artist_name        track_spotify_id  \\\n",
       "5   15092857           1  Drake feat. Wizkid & Kyla                           \n",
       "4   15311374           1          Justin Timberlake                           \n",
       "0   15300601           1                  Desiigner  5OOkp4U9P9oL23maHFHL1h   \n",
       "\n",
       "    track_id              track_name  \n",
       "5  108888372               One Dance  \n",
       "4  110789083  Can't Stop the Feeling  \n",
       "0  113492519                   Panda  "
      ]
     },
     "execution_count": 56,
     "metadata": {},
     "output_type": "execute_result"
    }
   ],
   "source": [
    "df_mxm_info"
   ]
  },
  {
   "cell_type": "code",
   "execution_count": 57,
   "metadata": {
    "collapsed": false
   },
   "outputs": [
    {
     "data": {
      "text/plain": [
       "True"
      ]
     },
     "execution_count": 57,
     "metadata": {},
     "output_type": "execute_result"
    }
   ],
   "source": [
    "#check that lyrics list is same length as info df\n",
    "len(lyrics_list) == len(df_mxm_info)"
   ]
  },
  {
   "cell_type": "code",
   "execution_count": 58,
   "metadata": {
    "collapsed": false
   },
   "outputs": [
    {
     "data": {
      "text/html": [
       "<div>\n",
       "<table border=\"1\" class=\"dataframe\">\n",
       "  <thead>\n",
       "    <tr style=\"text-align: right;\">\n",
       "      <th></th>\n",
       "      <th>lyrics_copyright</th>\n",
       "      <th>lyrics_body</th>\n",
       "      <th>publisher_list</th>\n",
       "      <th>can_edit</th>\n",
       "      <th>writer_list</th>\n",
       "      <th>instrumental</th>\n",
       "      <th>verified</th>\n",
       "      <th>html_tracking_url</th>\n",
       "      <th>lyrics_language_description</th>\n",
       "      <th>locked</th>\n",
       "      <th>restricted</th>\n",
       "      <th>explicit</th>\n",
       "      <th>updated_time</th>\n",
       "      <th>lyrics_id</th>\n",
       "      <th>script_tracking_url</th>\n",
       "      <th>action_requested</th>\n",
       "      <th>pixel_tracking_url</th>\n",
       "      <th>lyrics_language</th>\n",
       "    </tr>\n",
       "  </thead>\n",
       "  <tbody>\n",
       "    <tr>\n",
       "      <th>0</th>\n",
       "      <td>Lyrics powered by www.musiXmatch.com. This Lyr...</td>\n",
       "      <td>Baby I like your style\\n\\nGrips on your waist\\...</td>\n",
       "      <td>[]</td>\n",
       "      <td>0</td>\n",
       "      <td>[]</td>\n",
       "      <td>0</td>\n",
       "      <td>0</td>\n",
       "      <td>http://tracking.musixmatch.com/t1.0/m_html/e_1...</td>\n",
       "      <td>English</td>\n",
       "      <td>1</td>\n",
       "      <td>0</td>\n",
       "      <td>0</td>\n",
       "      <td>2016-05-13T11:00:53Z</td>\n",
       "      <td>15092857</td>\n",
       "      <td>http://tracking.musixmatch.com/t1.0/m_js/e_1/s...</td>\n",
       "      <td></td>\n",
       "      <td>http://tracking.musixmatch.com/t1.0/m_img/e_1/...</td>\n",
       "      <td>en</td>\n",
       "    </tr>\n",
       "    <tr>\n",
       "      <th>1</th>\n",
       "      <td>Lyrics powered by www.musiXmatch.com. This Lyr...</td>\n",
       "      <td>I got this feeling inside my bones\\nIt goes el...</td>\n",
       "      <td>[]</td>\n",
       "      <td>0</td>\n",
       "      <td>[]</td>\n",
       "      <td>0</td>\n",
       "      <td>0</td>\n",
       "      <td>http://tracking.musixmatch.com/t1.0/m_html/e_1...</td>\n",
       "      <td>English</td>\n",
       "      <td>1</td>\n",
       "      <td>0</td>\n",
       "      <td>0</td>\n",
       "      <td>2016-05-05T22:44:34Z</td>\n",
       "      <td>15311374</td>\n",
       "      <td>http://tracking.musixmatch.com/t1.0/m_js/e_1/s...</td>\n",
       "      <td></td>\n",
       "      <td>http://tracking.musixmatch.com/t1.0/m_img/e_1/...</td>\n",
       "      <td>en</td>\n",
       "    </tr>\n",
       "    <tr>\n",
       "      <th>2</th>\n",
       "      <td>Lyrics powered by www.musiXmatch.com. This Lyr...</td>\n",
       "      <td>This what they all been waitin' for\\nI guess s...</td>\n",
       "      <td>[]</td>\n",
       "      <td>0</td>\n",
       "      <td>[]</td>\n",
       "      <td>0</td>\n",
       "      <td>0</td>\n",
       "      <td>http://tracking.musixmatch.com/t1.0/m_html/e_1...</td>\n",
       "      <td>English</td>\n",
       "      <td>1</td>\n",
       "      <td>0</td>\n",
       "      <td>1</td>\n",
       "      <td>2016-05-05T15:33:36Z</td>\n",
       "      <td>15300601</td>\n",
       "      <td>http://tracking.musixmatch.com/t1.0/m_js/e_1/s...</td>\n",
       "      <td></td>\n",
       "      <td>http://tracking.musixmatch.com/t1.0/m_img/e_1/...</td>\n",
       "      <td>en</td>\n",
       "    </tr>\n",
       "  </tbody>\n",
       "</table>\n",
       "</div>"
      ],
      "text/plain": [
       "                                    lyrics_copyright  \\\n",
       "0  Lyrics powered by www.musiXmatch.com. This Lyr...   \n",
       "1  Lyrics powered by www.musiXmatch.com. This Lyr...   \n",
       "2  Lyrics powered by www.musiXmatch.com. This Lyr...   \n",
       "\n",
       "                                         lyrics_body publisher_list  can_edit  \\\n",
       "0  Baby I like your style\\n\\nGrips on your waist\\...             []         0   \n",
       "1  I got this feeling inside my bones\\nIt goes el...             []         0   \n",
       "2  This what they all been waitin' for\\nI guess s...             []         0   \n",
       "\n",
       "  writer_list  instrumental  verified  \\\n",
       "0          []             0         0   \n",
       "1          []             0         0   \n",
       "2          []             0         0   \n",
       "\n",
       "                                   html_tracking_url  \\\n",
       "0  http://tracking.musixmatch.com/t1.0/m_html/e_1...   \n",
       "1  http://tracking.musixmatch.com/t1.0/m_html/e_1...   \n",
       "2  http://tracking.musixmatch.com/t1.0/m_html/e_1...   \n",
       "\n",
       "  lyrics_language_description  locked  restricted  explicit  \\\n",
       "0                     English       1           0         0   \n",
       "1                     English       1           0         0   \n",
       "2                     English       1           0         1   \n",
       "\n",
       "           updated_time  lyrics_id  \\\n",
       "0  2016-05-13T11:00:53Z   15092857   \n",
       "1  2016-05-05T22:44:34Z   15311374   \n",
       "2  2016-05-05T15:33:36Z   15300601   \n",
       "\n",
       "                                 script_tracking_url action_requested  \\\n",
       "0  http://tracking.musixmatch.com/t1.0/m_js/e_1/s...                    \n",
       "1  http://tracking.musixmatch.com/t1.0/m_js/e_1/s...                    \n",
       "2  http://tracking.musixmatch.com/t1.0/m_js/e_1/s...                    \n",
       "\n",
       "                                  pixel_tracking_url lyrics_language  \n",
       "0  http://tracking.musixmatch.com/t1.0/m_img/e_1/...              en  \n",
       "1  http://tracking.musixmatch.com/t1.0/m_img/e_1/...              en  \n",
       "2  http://tracking.musixmatch.com/t1.0/m_img/e_1/...              en  "
      ]
     },
     "execution_count": 58,
     "metadata": {},
     "output_type": "execute_result"
    }
   ],
   "source": [
    "# Store the lyrics list elements in a data frame\n",
    "df_mxm_lyrics = pd.DataFrame(data= lyrics_list, columns=lyrics_df_cols) \n",
    "df_mxm_lyrics"
   ]
  },
  {
   "cell_type": "code",
   "execution_count": 59,
   "metadata": {
    "collapsed": true
   },
   "outputs": [],
   "source": [
    "# merge these 2 dataframes\n",
    "df_mxm = pd.merge(df_mxm_info,df_mxm_lyrics,on='lyrics_id')"
   ]
  },
  {
   "cell_type": "code",
   "execution_count": 60,
   "metadata": {
    "collapsed": false
   },
   "outputs": [
    {
     "data": {
      "text/html": [
       "<div>\n",
       "<table border=\"1\" class=\"dataframe\">\n",
       "  <thead>\n",
       "    <tr style=\"text-align: right;\">\n",
       "      <th></th>\n",
       "      <th>lyrics_id</th>\n",
       "      <th>has_lyrics</th>\n",
       "      <th>artist_name</th>\n",
       "      <th>track_spotify_id</th>\n",
       "      <th>track_id</th>\n",
       "      <th>track_name</th>\n",
       "      <th>lyrics_copyright</th>\n",
       "      <th>lyrics_body</th>\n",
       "      <th>publisher_list</th>\n",
       "      <th>can_edit</th>\n",
       "      <th>...</th>\n",
       "      <th>html_tracking_url</th>\n",
       "      <th>lyrics_language_description</th>\n",
       "      <th>locked</th>\n",
       "      <th>restricted</th>\n",
       "      <th>explicit</th>\n",
       "      <th>updated_time</th>\n",
       "      <th>script_tracking_url</th>\n",
       "      <th>action_requested</th>\n",
       "      <th>pixel_tracking_url</th>\n",
       "      <th>lyrics_language</th>\n",
       "    </tr>\n",
       "  </thead>\n",
       "  <tbody>\n",
       "    <tr>\n",
       "      <th>0</th>\n",
       "      <td>15092857</td>\n",
       "      <td>1</td>\n",
       "      <td>Drake feat. Wizkid &amp; Kyla</td>\n",
       "      <td></td>\n",
       "      <td>108888372</td>\n",
       "      <td>One Dance</td>\n",
       "      <td>Lyrics powered by www.musiXmatch.com. This Lyr...</td>\n",
       "      <td>Baby I like your style\\n\\nGrips on your waist\\...</td>\n",
       "      <td>[]</td>\n",
       "      <td>0</td>\n",
       "      <td>...</td>\n",
       "      <td>http://tracking.musixmatch.com/t1.0/m_html/e_1...</td>\n",
       "      <td>English</td>\n",
       "      <td>1</td>\n",
       "      <td>0</td>\n",
       "      <td>0</td>\n",
       "      <td>2016-05-13T11:00:53Z</td>\n",
       "      <td>http://tracking.musixmatch.com/t1.0/m_js/e_1/s...</td>\n",
       "      <td></td>\n",
       "      <td>http://tracking.musixmatch.com/t1.0/m_img/e_1/...</td>\n",
       "      <td>en</td>\n",
       "    </tr>\n",
       "    <tr>\n",
       "      <th>1</th>\n",
       "      <td>15311374</td>\n",
       "      <td>1</td>\n",
       "      <td>Justin Timberlake</td>\n",
       "      <td></td>\n",
       "      <td>110789083</td>\n",
       "      <td>Can't Stop the Feeling</td>\n",
       "      <td>Lyrics powered by www.musiXmatch.com. This Lyr...</td>\n",
       "      <td>I got this feeling inside my bones\\nIt goes el...</td>\n",
       "      <td>[]</td>\n",
       "      <td>0</td>\n",
       "      <td>...</td>\n",
       "      <td>http://tracking.musixmatch.com/t1.0/m_html/e_1...</td>\n",
       "      <td>English</td>\n",
       "      <td>1</td>\n",
       "      <td>0</td>\n",
       "      <td>0</td>\n",
       "      <td>2016-05-05T22:44:34Z</td>\n",
       "      <td>http://tracking.musixmatch.com/t1.0/m_js/e_1/s...</td>\n",
       "      <td></td>\n",
       "      <td>http://tracking.musixmatch.com/t1.0/m_img/e_1/...</td>\n",
       "      <td>en</td>\n",
       "    </tr>\n",
       "    <tr>\n",
       "      <th>2</th>\n",
       "      <td>15300601</td>\n",
       "      <td>1</td>\n",
       "      <td>Desiigner</td>\n",
       "      <td>5OOkp4U9P9oL23maHFHL1h</td>\n",
       "      <td>113492519</td>\n",
       "      <td>Panda</td>\n",
       "      <td>Lyrics powered by www.musiXmatch.com. This Lyr...</td>\n",
       "      <td>This what they all been waitin' for\\nI guess s...</td>\n",
       "      <td>[]</td>\n",
       "      <td>0</td>\n",
       "      <td>...</td>\n",
       "      <td>http://tracking.musixmatch.com/t1.0/m_html/e_1...</td>\n",
       "      <td>English</td>\n",
       "      <td>1</td>\n",
       "      <td>0</td>\n",
       "      <td>1</td>\n",
       "      <td>2016-05-05T15:33:36Z</td>\n",
       "      <td>http://tracking.musixmatch.com/t1.0/m_js/e_1/s...</td>\n",
       "      <td></td>\n",
       "      <td>http://tracking.musixmatch.com/t1.0/m_img/e_1/...</td>\n",
       "      <td>en</td>\n",
       "    </tr>\n",
       "  </tbody>\n",
       "</table>\n",
       "<p>3 rows × 23 columns</p>\n",
       "</div>"
      ],
      "text/plain": [
       "   lyrics_id  has_lyrics                artist_name        track_spotify_id  \\\n",
       "0   15092857           1  Drake feat. Wizkid & Kyla                           \n",
       "1   15311374           1          Justin Timberlake                           \n",
       "2   15300601           1                  Desiigner  5OOkp4U9P9oL23maHFHL1h   \n",
       "\n",
       "    track_id              track_name  \\\n",
       "0  108888372               One Dance   \n",
       "1  110789083  Can't Stop the Feeling   \n",
       "2  113492519                   Panda   \n",
       "\n",
       "                                    lyrics_copyright  \\\n",
       "0  Lyrics powered by www.musiXmatch.com. This Lyr...   \n",
       "1  Lyrics powered by www.musiXmatch.com. This Lyr...   \n",
       "2  Lyrics powered by www.musiXmatch.com. This Lyr...   \n",
       "\n",
       "                                         lyrics_body publisher_list  can_edit  \\\n",
       "0  Baby I like your style\\n\\nGrips on your waist\\...             []         0   \n",
       "1  I got this feeling inside my bones\\nIt goes el...             []         0   \n",
       "2  This what they all been waitin' for\\nI guess s...             []         0   \n",
       "\n",
       "        ...                                        html_tracking_url  \\\n",
       "0       ...        http://tracking.musixmatch.com/t1.0/m_html/e_1...   \n",
       "1       ...        http://tracking.musixmatch.com/t1.0/m_html/e_1...   \n",
       "2       ...        http://tracking.musixmatch.com/t1.0/m_html/e_1...   \n",
       "\n",
       "   lyrics_language_description  locked restricted explicit  \\\n",
       "0                      English       1          0        0   \n",
       "1                      English       1          0        0   \n",
       "2                      English       1          0        1   \n",
       "\n",
       "           updated_time                                script_tracking_url  \\\n",
       "0  2016-05-13T11:00:53Z  http://tracking.musixmatch.com/t1.0/m_js/e_1/s...   \n",
       "1  2016-05-05T22:44:34Z  http://tracking.musixmatch.com/t1.0/m_js/e_1/s...   \n",
       "2  2016-05-05T15:33:36Z  http://tracking.musixmatch.com/t1.0/m_js/e_1/s...   \n",
       "\n",
       "   action_requested                                 pixel_tracking_url  \\\n",
       "0                    http://tracking.musixmatch.com/t1.0/m_img/e_1/...   \n",
       "1                    http://tracking.musixmatch.com/t1.0/m_img/e_1/...   \n",
       "2                    http://tracking.musixmatch.com/t1.0/m_img/e_1/...   \n",
       "\n",
       "  lyrics_language  \n",
       "0              en  \n",
       "1              en  \n",
       "2              en  \n",
       "\n",
       "[3 rows x 23 columns]"
      ]
     },
     "execution_count": 60,
     "metadata": {},
     "output_type": "execute_result"
    }
   ],
   "source": [
    "df_mxm.head()"
   ]
  },
  {
   "cell_type": "markdown",
   "metadata": {},
   "source": [
    "### To Do : \n",
    "#### Scale up!\n",
    "#### Make the match more efficient and less error-prone (e.g., first look for spotify id match, then do the fuzzy join. also, check that has_lyrics is true before selecting?)\n",
    "#### Eventually, join with EchoNest features"
   ]
  }
 ],
 "metadata": {
  "kernelspec": {
   "display_name": "Python 2",
   "language": "python",
   "name": "python2"
  },
  "language_info": {
   "codemirror_mode": {
    "name": "ipython",
    "version": 2
   },
   "file_extension": ".py",
   "mimetype": "text/x-python",
   "name": "python",
   "nbconvert_exporter": "python",
   "pygments_lexer": "ipython2",
   "version": "2.7.10"
  }
 },
 "nbformat": 4,
 "nbformat_minor": 0
}
