{
 "cells": [
  {
   "cell_type": "markdown",
   "metadata": {},
   "source": [
    "## Continued from NLP_Sentiment_TDIF\n",
    "## Calculates similarity matrix from song to song\n"
   ]
  },
  {
   "cell_type": "code",
   "execution_count": 40,
   "metadata": {
    "collapsed": false
   },
   "outputs": [],
   "source": [
    "# import things\n",
    "import pandas as pd\n",
    "import numpy as np \n",
    "from scipy import spatial\n",
    "import matplotlib.pyplot as plt\n",
    "import matplotlib\n",
    "%matplotlib inline\n",
    "# Import BeautifulSoup into your workspace\n",
    "from bs4 import BeautifulSoup  \n",
    "import re\n",
    "import string\n",
    "import operator\n",
    "from __future__ import division\n",
    "import datetime\n",
    "#import nltk\n",
    "#nltk.download()  # Download text data sets, including stop words\n",
    "from nltk.corpus import stopwords # Import the stop word list\n",
    "from sklearn.feature_extraction.text import CountVectorizer\n",
    "from sklearn.feature_extraction.text import TfidfTransformer"
   ]
  },
  {
   "cell_type": "code",
   "execution_count": 41,
   "metadata": {
    "collapsed": true
   },
   "outputs": [],
   "source": [
    "def cos_dis(your_song_bow_vec, other_song_bow_vec):\n",
    "    result = spatial.distance.cosine(your_song_bow_vec, other_song_bow_vec)\n",
    "    return result"
   ]
  },
  {
   "cell_type": "code",
   "execution_count": 42,
   "metadata": {
    "collapsed": true
   },
   "outputs": [],
   "source": [
    "lyrics_df = pd.read_pickle('LyricsDF_with_BoW&tdif_sparse')\n",
    "\n",
    "CosDis2 = pd.read_pickle('CosDis_tfidf_reduced')\n",
    "CosDis2 = CosDis2.as_matrix()\n",
    "\n",
    "song_i_like = 'Bohemian Rhapsody'"
   ]
  },
  {
   "cell_type": "code",
   "execution_count": 43,
   "metadata": {
    "collapsed": false
   },
   "outputs": [],
   "source": [
    "#get date of inputted song\n",
    "input_date=lyrics_df[lyrics_df['track_name']==song_i_like].date.values[0]\n",
    "input_date = input_date.astype('datetime64[D]')\n",
    "\n",
    "#find songs with similar sentiment\n",
    "sentiment = lyrics_df[lyrics_df['track_name']==song_i_like].compound_sentiment.values[0]\n",
    "lyrics_df['dist1'] = lyrics_df.compound_sentiment.map((lambda x: abs(sentiment - x)))\t\n",
    "\n",
    "#define similarity as diff between your song's lexical diversity & that of other songs\n",
    "lex = lyrics_df[lyrics_df['track_name']==song_i_like].lex_diversity.values[0]\n",
    "lyrics_df['dist2'] = lyrics_df.lex_diversity.map((lambda x: abs(lex - x)))\n"
   ]
  },
  {
   "cell_type": "code",
   "execution_count": 46,
   "metadata": {
    "collapsed": false
   },
   "outputs": [],
   "source": [
    "##HOLY CRAP putting in the command below makes the following for loop run \n",
    "## SO MUCH FASTER.  But why???\n",
    "pd.options.mode.chained_assignment = None  # default='warn'\n",
    "\n",
    "lyrics_recent = lyrics_df[lyrics_df['date']>datetime.date(2013,1,1)]\n",
    "lyrics_recent = lyrics_recent.reset_index()\n",
    "del lyrics_recent['index']\n",
    "\n",
    "index1 = lyrics_df[lyrics_df['track_name']==song_i_like].index\n",
    "\n",
    "lyrics_recent['dist3'] = 2.0\n",
    "num_recent_songs = len(lyrics_recent)\n",
    "for j in range(num_recent_songs):\n",
    "    lyrics_recent['dist3'][j] = CosDis2[index1, j]\n",
    "\n",
    "lyrics_recent['dist_tot'] = lyrics_recent['dist1'] + lyrics_recent['dist2'] + lyrics_recent['dist3']\n",
    " "
   ]
  },
  {
   "cell_type": "code",
   "execution_count": 47,
   "metadata": {
    "collapsed": false
   },
   "outputs": [
    {
     "name": "stdout",
     "output_type": "stream",
     "text": [
      "size bag of words vectors =  (1, 5000)  and  (1, 5000)\n",
      "cosine distance between  Bohemian Rhapsody  and  Cool for the Summer  = \n",
      "0.965182248585\n",
      "size bag of words vectors =  (1, 5000)  and  (1, 5000)\n",
      "cosine distance between  Bohemian Rhapsody  and  Cool for the Summer  = \n",
      "0.965182248585\n",
      "(15868, 920)\n",
      "index1 = Int64Index([5979], dtype='int64') index2 = Int64Index([656], dtype='int64')\n",
      "[ 0.96518225]\n",
      "656    0.965182\n",
      "Name: dist3, dtype: float64\n"
     ]
    }
   ],
   "source": [
    "song1 = 'Bohemian Rhapsody'\n",
    "song2 = 'Cool for the Summer'\n",
    "\n",
    "bow1 = lyrics_df[lyrics_df['track_name']==song1].tfidf_array.values[0].toarray()\n",
    "bow2 = lyrics_df[lyrics_df['track_name']==song2].tfidf_array.values[0].toarray()\n",
    "print 'size bag of words vectors = ', np.shape(bow1), ' and ', np.shape(bow2)\n",
    "cos_distance = cos_dis(bow1,bow2)\n",
    "print 'cosine distance between ', song1, ' and ', song2 , ' = '\n",
    "print cos_distance\n",
    "\n",
    "bow1 = lyrics_df[lyrics_df['track_name']==song1].tfidf_array.values[0].toarray()\n",
    "bow2 = lyrics_recent[lyrics_recent['track_name']==song2].tfidf_array.values[0].toarray()\n",
    "print 'size bag of words vectors = ', np.shape(bow1), ' and ', np.shape(bow2)\n",
    "cos_distance = cos_dis(bow1,bow2)\n",
    "print 'cosine distance between ', song1, ' and ', song2 , ' = '\n",
    "print cos_distance\n",
    "\n",
    "index1 = lyrics_df[lyrics_df['track_name']==song1].index\n",
    "index2 = lyrics_recent[lyrics_recent['track_name']==song2].index\n",
    "\n",
    "print CosDis2.shape\n",
    "print 'index1 =', index1, 'index2 =', index2\n",
    "print CosDis2[index1, index2]\n",
    "\n",
    "print lyrics_recent[lyrics_recent['track_name']==song2]['dist3']"
   ]
  },
  {
   "cell_type": "code",
   "execution_count": 48,
   "metadata": {
    "collapsed": false
   },
   "outputs": [
    {
     "name": "stdout",
     "output_type": "stream",
     "text": [
      "   level_0                     hot100 artist          hot100 track  \\\n",
      "0    14708                        AWOLNATION                  Sail   \n",
      "1    14873                     The Lumineers                Ho Hey   \n",
      "2    14878  Justin Bieber Featuring Ludacris  All Around The World   \n",
      "3    14899                    Mumford & Sons           I Will Wait   \n",
      "4    14911                   Imagine Dragons           Radioactive   \n",
      "\n",
      "             track_name      artist_name        track_spotify_id  \\\n",
      "0                  Sail       AWOLNATION  4VUGq8KUTVv5YnMqU6nkDa   \n",
      "1                Ho Hey    The Lumineers  3MhUoQd6LJjITdDty9phGv   \n",
      "2  All Around the World    Justin Bieber                           \n",
      "3           I Will Wait   Mumford & Sons  20PpIH3XleVmYMpyY6nGBs   \n",
      "4           Radioactive  Imagine Dragons  62yJjFtgkhUrXktIoSjgP2   \n",
      "\n",
      "                                         lyrics_body       date  \\\n",
      "0  SAIL!\\nThis is how I show my love.\\nI made it ... 2013-06-22   \n",
      "1  Ho! Hey! Ho! Hey!\\n(Ho!) I've been trying to d... 2013-01-26   \n",
      "2  Oh oh oh oh oh\\nOh oh oh oh oh\\nYou're beautif... 2013-04-13   \n",
      "3  Well I came home\\nLike a stone\\nAnd I fell hea... 2013-01-05   \n",
      "4  I'm waking up to ash and dust\\nI wipe my brow,... 2013-07-13   \n",
      "\n",
      "                           lyrics_clean_no_stopwords  lex_diversity    pos  \\\n",
      "0  sail show love made mind blame add baby angel ...       0.600000  0.212   \n",
      "1  ho hey ho hey ho trying right hey living lonel...       0.527778  0.000   \n",
      "2  oh oh oh oh oh oh oh oh oh oh beautiful beauti...       0.361111  0.406   \n",
      "3  well came home like stone fell heavy arms days...       0.814815  0.155   \n",
      "4  waking ash dust wipe brow sweat rust breathing...       0.490909  0.098   \n",
      "\n",
      "     neg  compound_sentiment      dist     dist2  \\\n",
      "0  0.338             -0.4404  0.080328  0.259649   \n",
      "1  0.141             -0.6808  0.152550  0.331871   \n",
      "2  0.020              0.9899  0.319217  0.498538   \n",
      "3  0.000              0.5574  0.134487  0.044834   \n",
      "4  0.054              0.4019  0.189419  0.368740   \n",
      "\n",
      "                                           BoW_array  \\\n",
      "0    (0, 2503)\\t1\\n  (0, 160)\\t2\\n  (0, 2614)\\t1\\...   \n",
      "1    (0, 4891)\\t1\\n  (0, 2132)\\t2\\n  (0, 3474)\\t1...   \n",
      "2    (0, 99)\\t5\\n  (0, 3012)\\t18\\n  (0, 4932)\\t1\\...   \n",
      "3    (0, 4740)\\t1\\n  (0, 2132)\\t1\\n  (0, 441)\\t1\\...   \n",
      "4    (0, 3012)\\t14\\n  (0, 3033)\\t10\\n  (0, 2623)\\...   \n",
      "\n",
      "                                         tfidf_array   dist1     dist3  \\\n",
      "0    (0, 3809)\\t0.130958046411\\n  (0, 3797)\\t0.15...  0.4159  1.000000   \n",
      "1    (0, 4910)\\t0.0654143861998\\n  (0, 4891)\\t0.0...  0.1755  0.992838   \n",
      "2    (0, 4935)\\t0.0637695124731\\n  (0, 4932)\\t0.0...  1.8462  0.992430   \n",
      "3    (0, 4740)\\t0.0864268217461\\n  (0, 4576)\\t0.6...  1.4137  0.994064   \n",
      "4    (0, 4819)\\t0.0769734416716\\n  (0, 4779)\\t0.3...  1.2582  0.998187   \n",
      "\n",
      "   dist_tot  \n",
      "0  1.675549  \n",
      "1  1.500209  \n",
      "2  3.337168  \n",
      "3  2.452598  \n",
      "4  2.625127  \n"
     ]
    }
   ],
   "source": [
    "lyrics_recent['dist_tot'] = lyrics_recent['dist1'] + lyrics_recent['dist2'] + lyrics_recent['dist3']\n",
    "print lyrics_recent.head(5)"
   ]
  },
  {
   "cell_type": "code",
   "execution_count": 50,
   "metadata": {
    "collapsed": false
   },
   "outputs": [
    {
     "name": "stdout",
     "output_type": "stream",
     "text": [
      "     level_0                                      hot100 artist  \\\n",
      "162    15108                        2 Chainz Featuring Pharrell   \n",
      "544    15490                  Hoodie Allen Featuring Ed Sheeran   \n",
      "889    15837                                              Drake   \n",
      "691    15637                                         Luke Bryan   \n",
      "57     15003                                    Imagine Dragons   \n",
      "599    15545  Kendrick Lamar Featuring Bilal, Anna Wise & Sn...   \n",
      "515    15461                            Ne-Yo Featuring Juicy J   \n",
      "552    15498                                     Dierks Bentley   \n",
      "453    15399                               Eminem Featuring Sia   \n",
      "56     15002                      A$AP Rocky Featuring Skrillex   \n",
      "\n",
      "           hot100 track          track_name  \\\n",
      "162       Feds Watching       Feds Watching   \n",
      "544        All About It        All About It   \n",
      "889                Hype                Hype   \n",
      "691       Strip It Down       Strip It Down   \n",
      "57               Demons              Demons   \n",
      "599   Institutionalized   Institutionalized   \n",
      "515           She Knows           She Knows   \n",
      "552          Say You Do          Say You Do   \n",
      "453      Guts Over Fear      Guts Over Fear   \n",
      "56   Wild For The Night  Wild for the Night   \n",
      "\n",
      "                                       artist_name        track_spotify_id  \\\n",
      "162                        2 Chainz feat. Pharrell  07RXBKfyCYIYRMLCvlGWXU   \n",
      "544                  Hoodie Allen feat. Ed Sheeran  58hb0g5ctZ2XyZyvbZM2n2   \n",
      "889                                          Drake  07GilNHSfS5oicUgHgU7VG   \n",
      "691                                     Luke Bryan  0Ji9gEPzthvPD2BfRODkP3   \n",
      "57                                 Imagine Dragons  5qaEfEh1AtSdrdrByCP7qR   \n",
      "599  Kendrick Lamar, Bilal, Anna Wise & Snoop Dogg  1OkRb4h1HdRu45zvGagglu   \n",
      "515                            Ne-Yo feat. Juicy J  0XETcdHr7EkjfoZFSj6Asv   \n",
      "552                                 Dierks Bentley  236VSNzA72N4BV9OJ6c7tP   \n",
      "453                               Eminem feat. Sia  5MYNaUlGq6rNPt3aDfTcjX   \n",
      "56                       A$AP Rocky feat. Skrillex                           \n",
      "\n",
      "                                           lyrics_body       date  \\\n",
      "162  Tomorrow, tomorrow\\nTomorrow, tomorrow\\nAin't ... 2013-08-31   \n",
      "544  Cause I got soul and I won't quit\\nAnd your da... 2015-02-07   \n",
      "889  Why you live off of the hype bruh?\\nReal T-way... 2016-06-18   \n",
      "691  Let it fade to black\\nLet me run my fingers do... 2015-10-31   \n",
      "57   When the days are cold\\nAnd the cards all fold... 2013-12-07   \n",
      "599  What money got to do with it\\nWhen I don't kno... 2015-04-04   \n",
      "515  Yeah, uh-huh!\\nYour boy Juicy J\\nShe bad, yeah... 2015-02-14   \n",
      "552  Well don't worry about the damage done\\nJust l... 2015-04-04   \n",
      "453  Feels like a close, it's coming to\\nFuck am I ... 2014-09-20   \n",
      "56   Wake up falling blessed up, pistol on that dre... 2013-05-25   \n",
      "\n",
      "                             lyrics_clean_no_stopwords  lex_diversity    pos  \\\n",
      "162  tomorrow tomorrow tomorrow tomorrow thing tomo...       0.847059  0.080   \n",
      "544  cause got soul quit dad like talk shit cause b...       0.865169  0.156   \n",
      "889  live hype bruh real way yeah pull lexus like h...       0.848837  0.081   \n",
      "691  let fade black let run fingers back lets whisp...       0.848485  0.064   \n",
      "57   days cold cards fold saints see made gold drea...       0.818182  0.110   \n",
      "599  money got know full definition rap image trapp...       0.854167  0.196   \n",
      "515  yeah uh huh boy juicy j bad yeah case know jui...       0.835616  0.153   \n",
      "552  well worry damage done let words roll tongue e...       0.853659  0.206   \n",
      "453  feels like close coming fuck gonna late start ...       0.801282  0.113   \n",
      "56   wake falling blessed pistol dresser afraid sho...       0.771186  0.196   \n",
      "\n",
      "       neg  compound_sentiment      dist     dist2  \\\n",
      "162  0.180             -0.8481  0.166731  0.012590   \n",
      "544  0.236             -0.8591  0.184841  0.005519   \n",
      "889  0.157             -0.8651  0.168509  0.010812   \n",
      "691  0.192             -0.8402  0.168157  0.011164   \n",
      "57   0.316             -0.8712  0.137854  0.041467   \n",
      "599  0.223             -0.7650  0.173839  0.005482   \n",
      "515  0.244             -0.8979  0.155289  0.024033   \n",
      "552  0.299             -0.7665  0.173331  0.005991   \n",
      "453  0.160             -0.8689  0.120954  0.058367   \n",
      "56   0.248             -0.8500  0.090859  0.088463   \n",
      "\n",
      "                                             BoW_array  \\\n",
      "162    (0, 1143)\\t1\\n  (0, 208)\\t1\\n  (0, 1811)\\t1\\...   \n",
      "544    (0, 4546)\\t1\\n  (0, 3245)\\t1\\n  (0, 208)\\t2\\...   \n",
      "889    (0, 4932)\\t1\\n  (0, 1143)\\t1\\n  (0, 2132)\\t1...   \n",
      "691    (0, 4546)\\t1\\n  (0, 2405)\\t1\\n  (0, 1143)\\t1...   \n",
      "57     (0, 1167)\\t1\\n  (0, 667)\\t1\\n  (0, 3675)\\t1\\...   \n",
      "599    (0, 3012)\\t1\\n  (0, 1397)\\t1\\n  (0, 3351)\\t1...   \n",
      "515    (0, 99)\\t1\\n  (0, 515)\\t1\\n  (0, 2728)\\t1\\n ...   \n",
      "552    (0, 4546)\\t1\\n  (0, 2405)\\t1\\n  (0, 1842)\\t1...   \n",
      "453    (0, 3245)\\t1\\n  (0, 4891)\\t1\\n  (0, 4507)\\t1...   \n",
      "56     (0, 99)\\t1\\n  (0, 2958)\\t1\\n  (0, 2132)\\t1\\n...   \n",
      "\n",
      "                                           tfidf_array   dist1     dist3  \\\n",
      "162    (0, 4986)\\t0.0818533440069\\n  (0, 4689)\\t0.0...  0.0082  0.902491   \n",
      "544    (0, 4887)\\t0.142721629844\\n  (0, 4886)\\t0.10...  0.0028  0.976822   \n",
      "889    (0, 4986)\\t0.0764524733487\\n  (0, 4964)\\t0.1...  0.0088  0.974924   \n",
      "691    (0, 4776)\\t0.104914720395\\n  (0, 4772)\\t0.12...  0.0161  0.970448   \n",
      "57     (0, 4889)\\t0.18732210083\\n  (0, 4601)\\t0.172...  0.0149  0.972376   \n",
      "599    (0, 4864)\\t0.0839174405038\\n  (0, 4776)\\t0.0...  0.0913  0.934953   \n",
      "515    (0, 4957)\\t0.18722027041\\n  (0, 4956)\\t0.161...  0.0416  0.967453   \n",
      "552    (0, 4905)\\t0.212630897993\\n  (0, 4886)\\t0.15...  0.0898  0.940495   \n",
      "453    (0, 4910)\\t0.060273763172\\n  (0, 4891)\\t0.05...  0.0126  0.966490   \n",
      "56     (0, 4972)\\t0.0580608066671\\n  (0, 4801)\\t0.1...  0.0063  0.949908   \n",
      "\n",
      "     dist_tot  \n",
      "162  0.923281  \n",
      "544  0.985141  \n",
      "889  0.994536  \n",
      "691  0.997712  \n",
      "57   1.028743  \n",
      "599  1.031736  \n",
      "515  1.033086  \n",
      "552  1.036285  \n",
      "453  1.037457  \n",
      "56   1.044671  \n"
     ]
    }
   ],
   "source": [
    "nreturn = 10\n",
    "result = lyrics_recent.sort_values('dist_tot')[:nreturn]\n",
    "print result"
   ]
  }
 ],
 "metadata": {
  "anaconda-cloud": {},
  "kernelspec": {
   "display_name": "Python [py2]",
   "language": "python",
   "name": "Python [py2]"
  },
  "language_info": {
   "codemirror_mode": {
    "name": "ipython",
    "version": 2
   },
   "file_extension": ".py",
   "mimetype": "text/x-python",
   "name": "python",
   "nbconvert_exporter": "python",
   "pygments_lexer": "ipython2",
   "version": "2.7.12"
  }
 },
 "nbformat": 4,
 "nbformat_minor": 0
}
