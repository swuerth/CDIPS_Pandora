{
 "cells": [
  {
   "cell_type": "markdown",
   "metadata": {},
   "source": [
    "### Week 1\n",
    "#### To Do: Acquire Billboard Top 100 Data\n",
    "> How far back should we look?\n",
    ">> Goes back to 08-09-1958?\n",
    "> How frequently should we sample?\n",
    ">> Minimum sampling is weekly\n",
    "\n",
    "\n",
    "#### Once we have the Billboard data: \n",
    "> Search MusixMatch for the lyrics for those songs\n",
    "> Search EchoNest for audio features\n",
    "\n",
    "#### Create single database with all 3 (Billboard + Lyrics + EchoNest)\n",
    "> Store as Pandas DataFrame?\n",
    "> Key to join on : spotifyID in billboard data -- does this work for gathering the echonest data and the lyrics data?"
   ]
  },
  {
   "cell_type": "code",
   "execution_count": null,
   "metadata": {
    "collapsed": true
   },
   "outputs": [],
   "source": [
    "# edit this cell with your API info for billboard and spotify"
   ]
  },
  {
   "cell_type": "code",
   "execution_count": 72,
   "metadata": {
    "collapsed": true
   },
   "outputs": [],
   "source": [
    "import billboard\n",
    "from billboard import ChartData\n",
    "import pdb \n",
    "import numpy as np  "
   ]
  },
  {
   "cell_type": "code",
   "execution_count": 67,
   "metadata": {
    "collapsed": true
   },
   "outputs": [],
   "source": [
    "import requests"
   ]
  },
  {
   "cell_type": "code",
   "execution_count": 93,
   "metadata": {
    "collapsed": false
   },
   "outputs": [
    {
     "name": "stdout",
     "output_type": "stream",
     "text": [
      "getting data for :  2016-07-09\n",
      "previous date is :  2016-07-02\n",
      "saving to :  hot100.2016-07-09.csv\n",
      "getting data for :  2016-07-02\n",
      "previous date is :  2016-06-25\n",
      "saving to :  hot100.2016-07-02.csv\n"
     ]
    }
   ],
   "source": [
    "chartname = 'hot-100'\n",
    "date_in = '2016-07-09' #initialize\n",
    "list_count = 1\n",
    "while list_count < 3 :\n",
    "    print 'getting data for : ', date_in\n",
    "    data = ChartData(chartname, date = date_in)\n",
    "    previous = data.previousDate\n",
    "    print 'previous date is : ', previous\n",
    "    #call filename:\n",
    "    fname = 'hot100.' + date_in + '.csv'\n",
    "    print 'saving to : ', fname\n",
    "    f = open(fname, 'wb')\n",
    "    [f.write(x.spotifyID + '\\t' + x.title + '\\t'  + x.artist + '\\t' + np.str(x.peakPos) + '\\t' + \n",
    "        np.str(x.lastPos) + '\\t' + np.str(x.weeks) + '\\t' + np.str(x.rank) + '\\t'  + np.str(x.change)\n",
    "        + '\\t' + x.spotifyLink + '\\n')\n",
    "        for x in data]\n",
    "    f.close()\n",
    "    list_count += 1\n",
    "    date_in = previous"
   ]
  }
 ],
 "metadata": {
  "kernelspec": {
   "display_name": "Python 2",
   "language": "python",
   "name": "python2"
  },
  "language_info": {
   "codemirror_mode": {
    "name": "ipython",
    "version": 2
   },
   "file_extension": ".py",
   "mimetype": "text/x-python",
   "name": "python",
   "nbconvert_exporter": "python",
   "pygments_lexer": "ipython2",
   "version": "2.7.10"
  }
 },
 "nbformat": 4,
 "nbformat_minor": 0
}
