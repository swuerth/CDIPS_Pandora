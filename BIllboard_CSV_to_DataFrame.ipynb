{
 "cells": [
  {
   "cell_type": "markdown",
   "metadata": {},
   "source": [
    "## In case you wonder how './Billboard100DF' is made:\n",
    "### Converts all the billboard 100 csvs to one big dataframe\n",
    "### Saves this data frame too"
   ]
  },
  {
   "cell_type": "code",
   "execution_count": 1,
   "metadata": {
    "collapsed": false
   },
   "outputs": [
    {
     "name": "stdout",
     "output_type": "stream",
     "text": [
      "num files =  3023\n"
     ]
    }
   ],
   "source": [
    "# test getting the csv lists read into one big df\n",
    "import glob\n",
    "file_list = glob.glob(\"./hot100/hot100*csv\") #or wherever your csvs are stored\n",
    "print 'num files = ', len(file_list)\n",
    "import csv\n",
    "import pandas as pd"
   ]
  },
  {
   "cell_type": "code",
   "execution_count": 2,
   "metadata": {
    "collapsed": false
   },
   "outputs": [],
   "source": [
    "# do this if you run into utf8 errors\n",
    "# import sys\n",
    "# default_stdout = sys.stdout\n",
    "# default_stderr = sys.stderr\n",
    "# reload(sys)\n",
    "# sys.stdout = default_stdout\n",
    "# sys.stderr = default_stderr\n",
    "# print 'testing!'"
   ]
  },
  {
   "cell_type": "code",
   "execution_count": 3,
   "metadata": {
    "collapsed": false
   },
   "outputs": [
    {
     "name": "stdout",
     "output_type": "stream",
     "text": [
      "1958-08-09\n",
      "1958-08-16\n",
      "1958-08-23\n",
      "1958-08-30\n"
     ]
    }
   ],
   "source": [
    "#testing which characters are the date parts of the filenames:\n",
    "date_ind_start = 16\n",
    "date_ind_end = 26\n",
    "for f in file_list[0:4]:\n",
    "    print f[date_ind_start:date_ind_end]\n"
   ]
  },
  {
   "cell_type": "code",
   "execution_count": 4,
   "metadata": {
    "collapsed": false
   },
   "outputs": [
    {
     "data": {
      "text/plain": [
       "'./hot100/hot100.1958-08-09.csv'"
      ]
     },
     "execution_count": 4,
     "metadata": {},
     "output_type": "execute_result"
    }
   ],
   "source": [
    "file_list[0]"
   ]
  },
  {
   "cell_type": "markdown",
   "metadata": {},
   "source": [
    "### the block below probably takes 2-3 minutes to run"
   ]
  },
  {
   "cell_type": "code",
   "execution_count": 5,
   "metadata": {
    "collapsed": false
   },
   "outputs": [],
   "source": [
    "hot100df = pd.DataFrame() #for storing all data\n",
    "for f in file_list:\n",
    "    # Read in review dataset\n",
    "    header_info = ['SpotifyID','Title','Artist','PeakPos','LastPos','Weeks','Rank','Change','SpotifyLink']\n",
    "    with open(f, 'rb') as csvfile:\n",
    "        spamreader = csv.reader(csvfile, delimiter='\\t')\n",
    "        headers = header_info\n",
    "        column = {}\n",
    "        for h in headers:\n",
    "            column[h] = []\n",
    "        for row in spamreader:\n",
    "            for h, v in zip(headers, row):\n",
    "                column[h].append(v)\n",
    "    #now put our dictionary into a data frame\n",
    "    df_temp = pd.DataFrame.from_dict(column)\n",
    "    #add column for date\n",
    "    d = f[date_ind_start:date_ind_end] #use characters that are the date\n",
    "    df_temp['date'] = d\n",
    "    #append temporary data frame to the full data frame\n",
    "    hot100df = hot100df.append(df_temp)"
   ]
  },
  {
   "cell_type": "code",
   "execution_count": 6,
   "metadata": {
    "collapsed": false
   },
   "outputs": [
    {
     "data": {
      "text/plain": [
       "302142"
      ]
     },
     "execution_count": 6,
     "metadata": {},
     "output_type": "execute_result"
    }
   ],
   "source": [
    "len(hot100df)"
   ]
  },
  {
   "cell_type": "code",
   "execution_count": 7,
   "metadata": {
    "collapsed": false
   },
   "outputs": [
    {
     "data": {
      "text/html": [
       "<div>\n",
       "<table border=\"1\" class=\"dataframe\">\n",
       "  <thead>\n",
       "    <tr style=\"text-align: right;\">\n",
       "      <th></th>\n",
       "      <th>Artist</th>\n",
       "      <th>Change</th>\n",
       "      <th>LastPos</th>\n",
       "      <th>PeakPos</th>\n",
       "      <th>Rank</th>\n",
       "      <th>SpotifyID</th>\n",
       "      <th>SpotifyLink</th>\n",
       "      <th>Title</th>\n",
       "      <th>Weeks</th>\n",
       "      <th>date</th>\n",
       "    </tr>\n",
       "  </thead>\n",
       "  <tbody>\n",
       "    <tr>\n",
       "      <th>0</th>\n",
       "      <td>Ricky Nelson</td>\n",
       "      <td>Re-Entry</td>\n",
       "      <td>0</td>\n",
       "      <td>1</td>\n",
       "      <td>1</td>\n",
       "      <td>33FPsMEl3UwpytDuyf9VYq</td>\n",
       "      <td>https://embed.spotify.com/?uri=spotify:track:3...</td>\n",
       "      <td>Poor Little Fool</td>\n",
       "      <td>11</td>\n",
       "      <td>1958-08-09</td>\n",
       "    </tr>\n",
       "    <tr>\n",
       "      <th>1</th>\n",
       "      <td>Perez Prado And His Orchestra</td>\n",
       "      <td>Re-Entry</td>\n",
       "      <td>0</td>\n",
       "      <td>2</td>\n",
       "      <td>2</td>\n",
       "      <td>0nG4SbrAONIFLIwQqegooj</td>\n",
       "      <td>https://embed.spotify.com/?uri=spotify:track:0...</td>\n",
       "      <td>Patricia</td>\n",
       "      <td>14</td>\n",
       "      <td>1958-08-09</td>\n",
       "    </tr>\n",
       "    <tr>\n",
       "      <th>2</th>\n",
       "      <td>Bobby Darin</td>\n",
       "      <td>Re-Entry</td>\n",
       "      <td>0</td>\n",
       "      <td>3</td>\n",
       "      <td>3</td>\n",
       "      <td>6NCPbpsr2N4w6YIZkpq6jx</td>\n",
       "      <td>https://embed.spotify.com/?uri=spotify:track:6...</td>\n",
       "      <td>Splish Splash</td>\n",
       "      <td>8</td>\n",
       "      <td>1958-08-09</td>\n",
       "    </tr>\n",
       "    <tr>\n",
       "      <th>3</th>\n",
       "      <td>Elvis Presley With The Jordanaires</td>\n",
       "      <td>Re-Entry</td>\n",
       "      <td>0</td>\n",
       "      <td>4</td>\n",
       "      <td>4</td>\n",
       "      <td>0MLachoG7wHVRrVydw2xuJ</td>\n",
       "      <td>https://embed.spotify.com/?uri=spotify:track:0...</td>\n",
       "      <td>Hard Headed Woman</td>\n",
       "      <td>8</td>\n",
       "      <td>1958-08-09</td>\n",
       "    </tr>\n",
       "    <tr>\n",
       "      <th>4</th>\n",
       "      <td>Kalin Twins</td>\n",
       "      <td>Re-Entry</td>\n",
       "      <td>0</td>\n",
       "      <td>5</td>\n",
       "      <td>5</td>\n",
       "      <td>52l2PCOwU2n2zfTlc0pEov</td>\n",
       "      <td>https://embed.spotify.com/?uri=spotify:track:5...</td>\n",
       "      <td>When</td>\n",
       "      <td>9</td>\n",
       "      <td>1958-08-09</td>\n",
       "    </tr>\n",
       "  </tbody>\n",
       "</table>\n",
       "</div>"
      ],
      "text/plain": [
       "                               Artist    Change LastPos PeakPos Rank  \\\n",
       "0                        Ricky Nelson  Re-Entry       0       1    1   \n",
       "1       Perez Prado And His Orchestra  Re-Entry       0       2    2   \n",
       "2                         Bobby Darin  Re-Entry       0       3    3   \n",
       "3  Elvis Presley With The Jordanaires  Re-Entry       0       4    4   \n",
       "4                         Kalin Twins  Re-Entry       0       5    5   \n",
       "\n",
       "                SpotifyID                                        SpotifyLink  \\\n",
       "0  33FPsMEl3UwpytDuyf9VYq  https://embed.spotify.com/?uri=spotify:track:3...   \n",
       "1  0nG4SbrAONIFLIwQqegooj  https://embed.spotify.com/?uri=spotify:track:0...   \n",
       "2  6NCPbpsr2N4w6YIZkpq6jx  https://embed.spotify.com/?uri=spotify:track:6...   \n",
       "3  0MLachoG7wHVRrVydw2xuJ  https://embed.spotify.com/?uri=spotify:track:0...   \n",
       "4  52l2PCOwU2n2zfTlc0pEov  https://embed.spotify.com/?uri=spotify:track:5...   \n",
       "\n",
       "               Title Weeks        date  \n",
       "0   Poor Little Fool    11  1958-08-09  \n",
       "1           Patricia    14  1958-08-09  \n",
       "2      Splish Splash     8  1958-08-09  \n",
       "3  Hard Headed Woman     8  1958-08-09  \n",
       "4               When     9  1958-08-09  "
      ]
     },
     "execution_count": 7,
     "metadata": {},
     "output_type": "execute_result"
    }
   ],
   "source": [
    "hot100df.head()"
   ]
  },
  {
   "cell_type": "code",
   "execution_count": 28,
   "metadata": {
    "collapsed": false
   },
   "outputs": [],
   "source": [
    "hot100df.to_pickle('./Billboard100DF')"
   ]
  },
  {
   "cell_type": "markdown",
   "metadata": {
    "collapsed": true
   },
   "source": [
    "### You can now load the pickle in any notebook with the line:\n",
    "hot100df = pd.read_pickle(path-to-file-name) \n",
    "\n",
    "where path is full path of Billboard100DF"
   ]
  }
 ],
 "metadata": {
  "kernelspec": {
   "display_name": "Python 2",
   "language": "python",
   "name": "python2"
  },
  "language_info": {
   "codemirror_mode": {
    "name": "ipython",
    "version": 2
   },
   "file_extension": ".py",
   "mimetype": "text/x-python",
   "name": "python",
   "nbconvert_exporter": "python",
   "pygments_lexer": "ipython2",
   "version": "2.7.10"
  }
 },
 "nbformat": 4,
 "nbformat_minor": 0
}
